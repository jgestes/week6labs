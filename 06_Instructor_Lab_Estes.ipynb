{
 "cells": [
  {
   "cell_type": "markdown",
   "id": "5d9d9ba4-0486-46c9-af01-340208d15306",
   "metadata": {},
   "source": [
    "# Week 6: Instructor Led Lab\n",
    "Author: Jen Estes \\\n",
    "Course: BGEN 632 - Introduction to Python \\\n",
    "Term: Spring 2025 \\\n",
    "Due Date: April 7th, 2025 \\ \n",
    "\n",
    "\n",
    "This notebook contains code for a \"magic crystal ball\" program based on lab assignment requirements provided by Dr. Newton. The program uses collections, nested loops, and a random number generator.   \n",
    "\n",
    "----\n"
   ]
  },
  {
   "cell_type": "markdown",
   "id": "12f00f80-1ea9-4d9f-bae0-b3850b7e93c7",
   "metadata": {},
   "source": [
    "## Import Modules\n",
    "Importing random first"
   ]
  },
  {
   "cell_type": "code",
   "execution_count": 1,
   "id": "9652fb7f-ecc3-4a69-ae5a-57bec5397e19",
   "metadata": {},
   "outputs": [],
   "source": [
    "import random as rand"
   ]
  },
  {
   "cell_type": "markdown",
   "id": "7c78bb23-3bcb-49f7-bb35-20f3b0e1f0f7",
   "metadata": {},
   "source": [
    "## Create Variables"
   ]
  },
  {
   "cell_type": "code",
   "execution_count": 3,
   "id": "3d9b893a-9de9-42f1-8731-72839fe646c4",
   "metadata": {},
   "outputs": [],
   "source": [
    "fortune_responses = [\"It is certain\",\n",
    "                     \"It is decidedly so\",\n",
    "                     \"That question requires greater monetary compensation\",\n",
    "                     \"Reply is hazy; try again, with more money\",\n",
    "                     \"Concentrate and ask again\",\n",
    "                     \"My reply is no\",\n",
    "                     \"Outlook is not so good\",\n",
    "                     \"Very doubtful\",\n",
    "                     \"I'd bet the $30 you just paid on that being true!\",\n",
    "                     \"I'm not sure, maybe ask your mom.\",\n",
    "                     \"I wouldn't get your hopes up on this one.\"]\n",
    "\n",
    "question_asked = False # keep track of whether a question has been asked\n",
    "service_cost = 0.0 # keep track of service cost\n",
    "\n",
    "questions = [] # the questions asked by the customer\n",
    "responses = [] # the responses provided to the customer\n"
   ]
  },
  {
   "cell_type": "markdown",
   "id": "60bdee72-9b88-4637-b087-1fa9214bbb88",
   "metadata": {},
   "source": [
    "## Welcome to My Fortune Teller Program!"
   ]
  },
  {
   "cell_type": "code",
   "execution_count": 6,
   "id": "a66cc0e1-d6dd-45a1-9873-7af66d3508d5",
   "metadata": {},
   "outputs": [
    {
     "name": "stdout",
     "output_type": "stream",
     "text": [
      "\n",
      "1: Ask a Question\n",
      "2: Review questions and responses\n",
      "3: Complete services and pay\n"
     ]
    },
    {
     "name": "stdin",
     "output_type": "stream",
     "text": [
      "\n",
      "Please input the number associated with the menu option you would like.\n",
      " 1\n",
      "\n",
      "What would you like to know?\n",
      " Will Florida win men's March Madness?\n"
     ]
    },
    {
     "name": "stdout",
     "output_type": "stream",
     "text": [
      "It is decidedly so\n",
      "\n",
      "1: Ask another Question\n",
      "2: Review questions and responses\n",
      "3: Complete services and pay\n"
     ]
    },
    {
     "name": "stdin",
     "output_type": "stream",
     "text": [
      "\n",
      "Please input the number associated with the menu option you would like.\n",
      " 1\n",
      "\n",
      "What would you like to know?\n",
      " Will it be warm and sunny this week?\n"
     ]
    },
    {
     "name": "stdout",
     "output_type": "stream",
     "text": [
      "Reply is hazy; try again, with more money\n",
      "\n",
      "1: Ask another Question\n",
      "2: Review questions and responses\n",
      "3: Complete services and pay\n"
     ]
    },
    {
     "name": "stdin",
     "output_type": "stream",
     "text": [
      "\n",
      "Please input the number associated with the menu option you would like.\n",
      " 1\n",
      "\n",
      "What would you like to know?\n",
      " Should I take my computer to Jackson, WY?\n"
     ]
    },
    {
     "name": "stdout",
     "output_type": "stream",
     "text": [
      "My reply is no\n",
      "\n",
      "1: Ask another Question\n",
      "2: Review questions and responses\n",
      "3: Complete services and pay\n"
     ]
    },
    {
     "name": "stdin",
     "output_type": "stream",
     "text": [
      "\n",
      "Please input the number associated with the menu option you would like.\n",
      " 1\n",
      "\n",
      "What would you like to know?\n",
      " Is Missoula the best city to live in?\n"
     ]
    },
    {
     "name": "stdout",
     "output_type": "stream",
     "text": [
      "My reply is no\n",
      "\n",
      "1: Ask another Question\n",
      "2: Review questions and responses\n",
      "3: Complete services and pay\n"
     ]
    },
    {
     "name": "stdin",
     "output_type": "stream",
     "text": [
      "\n",
      "Please input the number associated with the menu option you would like.\n",
      " 1\n",
      "\n",
      "What would you like to know?\n",
      " Should I travel this summer?\n"
     ]
    },
    {
     "name": "stdout",
     "output_type": "stream",
     "text": [
      "Outlook is not so good\n",
      "\n",
      "1: Ask another Question\n",
      "2: Review questions and responses\n",
      "3: Complete services and pay\n"
     ]
    },
    {
     "name": "stdin",
     "output_type": "stream",
     "text": [
      "\n",
      "Please input the number associated with the menu option you would like.\n",
      " 2\n"
     ]
    },
    {
     "name": "stdout",
     "output_type": "stream",
     "text": [
      "Question: Will Florida win men's March Madness? \n",
      "Response: It is decidedly so\n",
      "Question: Will it be warm and sunny this week? \n",
      "Response: Reply is hazy; try again, with more money\n",
      "Question: Should I take my computer to Jackson, WY? \n",
      "Response: My reply is no\n",
      "Question: Is Missoula the best city to live in? \n",
      "Response: My reply is no\n",
      "Question: Should I travel this summer? \n",
      "Response: Outlook is not so good\n",
      "\n",
      "1: Ask another Question\n",
      "2: Review questions and responses\n",
      "3: Complete services and pay\n"
     ]
    },
    {
     "name": "stdin",
     "output_type": "stream",
     "text": [
      "\n",
      "Please input the number associated with the menu option you would like.\n",
      " 3\n"
     ]
    },
    {
     "name": "stdout",
     "output_type": "stream",
     "text": [
      "Thank you for visiting my fortune telling program\n",
      "You asked a total of 5 question(s), which is $150. I hope you got all the answers you needed.\n"
     ]
    }
   ],
   "source": [
    "num_questions = 0\n",
    "\n",
    "while True:\n",
    "    first_menu = \"a\"\n",
    "    if num_questions > 0:\n",
    "        first_menu = \"another\"\n",
    "    print(f\"\\n1: Ask {first_menu} Question\\n2: Review questions and responses\\n3: Complete services and pay\")\n",
    "\n",
    "    choice = float(input(\"\\nPlease input the number associated with the menu option you would like.\\n\"))\n",
    "    if choice == 1:\n",
    "    # Ask a Question\n",
    "        question = str(input(\"\\nWhat would you like to know?\\n\"))\n",
    "        questions.append(question)\n",
    "    # Generate a random response\n",
    "        rand_a = rand.choice(fortune_responses)\n",
    "        print(rand_a)\n",
    "        num_questions += 1\n",
    "        responses.append(rand_a)\n",
    "    elif choice == 2: \n",
    "        for q, r in zip(questions, responses):\n",
    "            print(\"Question:\",q, \"\\nResponse:\",r)\n",
    "    elif choice == 3:\n",
    "        print(\"Thank you for visiting my fortune telling program\")\n",
    "        print(f\"You asked a total of {num_questions} question(s), which is ${num_questions * 30}. I hope you got all the answers you needed.\")\n",
    "            #end_service = True\n",
    "        break\n",
    "    else:\n",
    "        #Not an option\n",
    "        print(\"That is not an option. Please try again.\")\n",
    "        break"
   ]
  },
  {
   "cell_type": "markdown",
   "id": "8c8ce20e-1860-4bfe-b1b5-9557d50421c7",
   "metadata": {},
   "source": [
    "## References\n",
    "While I usually try to stick to the tutorials to complete the weekly labs, this week I was trying to figure out how to make the output of my lists \"prettier\". I couldn't find anything in the week 2, 3, or 6 tutorials so I did a google search of \"Iterating through multiple lists in python\". This led me to discover the use of \"zip\" to get the output of multiple lists to alternate while maintaining the position of the elements in each list. Below is the website I used to learn about this technique:\n",
    "\n",
    "Citation:\n",
    "\n",
    "Faccioni, Juliano Luiz. “How to Loop Over Multiple Lists in Python.” LearnPython.Com, LearnPython.com, 30 Nov. 2022, learnpython.com/blog/loop-over-multiple-lists/. \n",
    "\n",
    "URL: https://learnpython.com/blog/loop-over-multiple-lists/\n"
   ]
  }
 ],
 "metadata": {
  "kernelspec": {
   "display_name": "Python [conda env:base] *",
   "language": "python",
   "name": "conda-base-py"
  },
  "language_info": {
   "codemirror_mode": {
    "name": "ipython",
    "version": 3
   },
   "file_extension": ".py",
   "mimetype": "text/x-python",
   "name": "python",
   "nbconvert_exporter": "python",
   "pygments_lexer": "ipython3",
   "version": "3.12.7"
  }
 },
 "nbformat": 4,
 "nbformat_minor": 5
}
