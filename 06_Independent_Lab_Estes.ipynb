{
 "cells": [
  {
   "cell_type": "markdown",
   "id": "2a96f028-0550-41de-b9c2-5e5b51f4b729",
   "metadata": {},
   "source": [
    "# Week 6: Independent Lab\n",
    "Author: Jen Estes \\\n",
    "Course: BGEN 632 - Introduction to Python \\\n",
    "Term: Spring 2025 \\\n",
    "Due Date: April 7th, 2025 \\ \n",
    "\n",
    "\n",
    "This notebook contains code for a student management system based on lab assignment requirements provided by Dr. Newton. This system will allow you to add students, view GPA metrics, and assign academic violations.\n",
    "Options in this system:\n",
    "\n",
    "Student Information Query: The user can query the system for a list of all the students in the system.\\\n",
    "Student Information Entry: The user can create a new student record (First name, Last Name, major, GPA). \\\n",
    "Query GPA Metrics: The user can query the data for the following: *max* GPA, *min* GPA, *average* GPA. \\\n",
    "Academic Violations: The user can select ONE academic violation to add to a student's record. \\\n",
    "Quit Program: The user can quit this program and close the system. \n",
    "\n",
    "\n",
    "----"
   ]
  },
  {
   "cell_type": "markdown",
   "id": "020f7af7-cf1c-490b-a71f-f9255e1ce813",
   "metadata": {},
   "source": [
    "## Welcome to the Student Management System"
   ]
  },
  {
   "cell_type": "code",
   "execution_count": 19,
   "id": "06b242cd-daba-4f6f-8db1-747c7b5ee76f",
   "metadata": {},
   "outputs": [],
   "source": [
    "## Importing Current Student Records\n",
    "first_names = [\"Carmen\", \"Sydney\", \"Neil\", \"Marcus\"]\n",
    "last_names = [\"Berzatto\", \"Adamu\", \"Fak\", \"Brooks\"]\n",
    "majors = [\"English\", \"Computer Science\", \"Psychology\", \"Religion\"]\n",
    "gpas = [3.68, 3.42, 3.89, 3.76]\n",
    "\n",
    "# Importing Academic Violation Options\n",
    "violations = [\"Copying Homework\", \"Cheating on an Exam\", \"Plagiarism\", \"Cheating on a Quiz\", \"Forgery\", \"None\"]\n",
    "\n",
    "# Creating Current Academic Violations\n",
    "student_violations = [\"Cheating on an Exam\", \"None\", \"Plagiarism\", \"None\",\"\", \"\"]\n"
   ]
  },
  {
   "cell_type": "code",
   "execution_count": 20,
   "id": "4eba001a-8285-423d-8812-27ce5e9f8fae",
   "metadata": {},
   "outputs": [
    {
     "name": "stdout",
     "output_type": "stream",
     "text": [
      "['Carmen', 'Sydney', 'Neil', 'Marcus']\n",
      "['Berzatto', 'Adamu', 'Fak', 'Brooks']\n",
      "['English', 'Computer Science', 'Psychology', 'Religion']\n",
      "[3.68, 3.42, 3.89, 3.76]\n",
      "['Copying Homework', 'Cheating on an Exam', 'Plagiarism', 'Cheating on a Quiz', 'Forgery', 'None']\n",
      "['Cheating on an Exam', 'None', 'Plagiarism', 'None', '', '']\n"
     ]
    }
   ],
   "source": [
    "# Testing output of the original lists- Success!\n",
    "print(first_names)\n",
    "print(last_names)\n",
    "print(majors)\n",
    "print(gpas)\n",
    "print(violations)\n",
    "print(student_violations)"
   ]
  },
  {
   "cell_type": "code",
   "execution_count": 23,
   "id": "03ac2e0f-3248-4650-b87d-43f062e827b0",
   "metadata": {},
   "outputs": [
    {
     "name": "stdout",
     "output_type": "stream",
     "text": [
      "Student: Carmen Berzatto Major: English GPA: 3.68 Academic Violation: Cheating on an Exam\n",
      "Student: Sydney Adamu Major: Computer Science GPA: 3.42 Academic Violation: None\n",
      "Student: Neil Fak Major: Psychology GPA: 3.89 Academic Violation: Plagiarism\n",
      "Student: Marcus Brooks Major: Religion GPA: 3.76 Academic Violation: None\n"
     ]
    }
   ],
   "source": [
    "# Testing better looking output of these lists (SEE REFERENCES)\n",
    "for f, l, m, g, v in zip(first_names, last_names, majors, gpas, student_violations):\n",
    "    print(\"Student:\",f, l, \"Major:\",m, \"GPA:\",g, \"Academic Violation:\",v)"
   ]
  },
  {
   "cell_type": "code",
   "execution_count": 25,
   "id": "b07e29ab-fb04-473d-a9aa-a611650b292c",
   "metadata": {},
   "outputs": [
    {
     "name": "stdout",
     "output_type": "stream",
     "text": [
      "\n",
      "Student Management Menu Options\n",
      "1: Student Information Query\n",
      "2: Student Information Entry\n",
      "3: Query GPA Metrics\n",
      "4: Academic Violations\n",
      "5: Quit Program\n"
     ]
    },
    {
     "name": "stdin",
     "output_type": "stream",
     "text": [
      "Please input the number associated with the menu option you would like.\n",
      " 1\n"
     ]
    },
    {
     "name": "stdout",
     "output_type": "stream",
     "text": [
      "Student: Carmen Berzatto Major: English GPA: 3.68 Academic Violation: Cheating on an Exam\n",
      "Student: Sydney Adamu Major: Computer Science GPA: 3.42 Academic Violation: None\n",
      "Student: Neil Fak Major: Psychology GPA: 3.89 Academic Violation: Plagiarism\n",
      "Student: Marcus Brooks Major: Religion GPA: 3.76 Academic Violation: None\n",
      "\n",
      "Student Management Menu Options\n",
      "1: Student Information Query\n",
      "2: Student Information Entry\n",
      "3: Query GPA Metrics\n",
      "4: Academic Violations\n",
      "5: Quit Program\n"
     ]
    },
    {
     "name": "stdin",
     "output_type": "stream",
     "text": [
      "Please input the number associated with the menu option you would like.\n",
      " 3\n"
     ]
    },
    {
     "name": "stdout",
     "output_type": "stream",
     "text": [
      "The maximum GPA is: 3.89\n",
      "The minimum GPA is: 3.42\n",
      "The average GPA is: 3.6875\n",
      "\n",
      "Student Management Menu Options\n",
      "1: Student Information Query\n",
      "2: Student Information Entry\n",
      "3: Query GPA Metrics\n",
      "4: Academic Violations\n",
      "5: Quit Program\n"
     ]
    },
    {
     "name": "stdin",
     "output_type": "stream",
     "text": [
      "Please input the number associated with the menu option you would like.\n",
      " 2\n",
      "Please enter the student's first name.\n",
      " Jen\n",
      "Please enter the student's last name.\n",
      " Estes\n",
      "Please enter the student's current major.\n",
      " Business Analytics\n",
      "Please enter the student's current gpa.\n",
      " 4.0\n"
     ]
    },
    {
     "name": "stdout",
     "output_type": "stream",
     "text": [
      "Thank you for adding this student to our records.\n",
      "\n",
      "Student Management Menu Options\n",
      "1: Student Information Query\n",
      "2: Student Information Entry\n",
      "3: Query GPA Metrics\n",
      "4: Academic Violations\n",
      "5: Quit Program\n"
     ]
    },
    {
     "name": "stdin",
     "output_type": "stream",
     "text": [
      "Please input the number associated with the menu option you would like.\n",
      " 2\n",
      "Please enter the student's first name.\n",
      " Baxter\n",
      "Please enter the student's last name.\n",
      " Swift\n",
      "Please enter the student's current major.\n",
      " Music\n",
      "Please enter the student's current gpa.\n",
      " 3.97\n"
     ]
    },
    {
     "name": "stdout",
     "output_type": "stream",
     "text": [
      "Thank you for adding this student to our records.\n",
      "\n",
      "Student Management Menu Options\n",
      "1: Student Information Query\n",
      "2: Student Information Entry\n",
      "3: Query GPA Metrics\n",
      "4: Academic Violations\n",
      "5: Quit Program\n"
     ]
    },
    {
     "name": "stdin",
     "output_type": "stream",
     "text": [
      "Please input the number associated with the menu option you would like.\n",
      " 3\n"
     ]
    },
    {
     "name": "stdout",
     "output_type": "stream",
     "text": [
      "The maximum GPA is: 4.0\n",
      "The minimum GPA is: 3.42\n",
      "The average GPA is: 3.7866666666666666\n",
      "\n",
      "Student Management Menu Options\n",
      "1: Student Information Query\n",
      "2: Student Information Entry\n",
      "3: Query GPA Metrics\n",
      "4: Academic Violations\n",
      "5: Quit Program\n"
     ]
    },
    {
     "name": "stdin",
     "output_type": "stream",
     "text": [
      "Please input the number associated with the menu option you would like.\n",
      " 4\n"
     ]
    },
    {
     "name": "stdout",
     "output_type": "stream",
     "text": [
      "['Carmen', 'Sydney', 'Neil', 'Marcus', 'Jen', 'Baxter']\n"
     ]
    },
    {
     "name": "stdin",
     "output_type": "stream",
     "text": [
      "Please input the number (beginning at 0) associated with the student you would like to add/change an academic violation for.\n",
      "(0 for Carmen, 1 for Sydney, etc.)\n",
      " 4\n"
     ]
    },
    {
     "name": "stdout",
     "output_type": "stream",
     "text": [
      "Student Violation Options\n",
      "1: Copying Homework\n",
      "2: Cheating on an Exam\n",
      "3: Plagiarism\n",
      "4: Cheating on a Quiz\n",
      "5: Forgery\n",
      "6: None.\n",
      "\n"
     ]
    },
    {
     "name": "stdin",
     "output_type": "stream",
     "text": [
      "Please input the number associated with the academic violation below.\n",
      " 6\n"
     ]
    },
    {
     "name": "stdout",
     "output_type": "stream",
     "text": [
      "['Cheating on an Exam', 'None', 'Plagiarism', 'None', 'None', '']\n",
      "\n",
      "Student Management Menu Options\n",
      "1: Student Information Query\n",
      "2: Student Information Entry\n",
      "3: Query GPA Metrics\n",
      "4: Academic Violations\n",
      "5: Quit Program\n"
     ]
    },
    {
     "name": "stdin",
     "output_type": "stream",
     "text": [
      "Please input the number associated with the menu option you would like.\n",
      " 4\n"
     ]
    },
    {
     "name": "stdout",
     "output_type": "stream",
     "text": [
      "['Carmen', 'Sydney', 'Neil', 'Marcus', 'Jen', 'Baxter']\n"
     ]
    },
    {
     "name": "stdin",
     "output_type": "stream",
     "text": [
      "Please input the number (beginning at 0) associated with the student you would like to add/change an academic violation for.\n",
      "(0 for Carmen, 1 for Sydney, etc.)\n",
      " 5\n"
     ]
    },
    {
     "name": "stdout",
     "output_type": "stream",
     "text": [
      "Student Violation Options\n",
      "1: Copying Homework\n",
      "2: Cheating on an Exam\n",
      "3: Plagiarism\n",
      "4: Cheating on a Quiz\n",
      "5: Forgery\n",
      "6: None.\n",
      "\n"
     ]
    },
    {
     "name": "stdin",
     "output_type": "stream",
     "text": [
      "Please input the number associated with the academic violation below.\n",
      " 5\n"
     ]
    },
    {
     "name": "stdout",
     "output_type": "stream",
     "text": [
      "['Cheating on an Exam', 'None', 'Plagiarism', 'None', 'None', 'Forgery']\n",
      "\n",
      "Student Management Menu Options\n",
      "1: Student Information Query\n",
      "2: Student Information Entry\n",
      "3: Query GPA Metrics\n",
      "4: Academic Violations\n",
      "5: Quit Program\n"
     ]
    },
    {
     "name": "stdin",
     "output_type": "stream",
     "text": [
      "Please input the number associated with the menu option you would like.\n",
      " 1\n"
     ]
    },
    {
     "name": "stdout",
     "output_type": "stream",
     "text": [
      "Student: Carmen Berzatto Major: English GPA: 3.68 Academic Violation: Cheating on an Exam\n",
      "Student: Sydney Adamu Major: Computer Science GPA: 3.42 Academic Violation: None\n",
      "Student: Neil Fak Major: Psychology GPA: 3.89 Academic Violation: Plagiarism\n",
      "Student: Marcus Brooks Major: Religion GPA: 3.76 Academic Violation: None\n",
      "Student: Jen Estes Major: Business Analytics GPA: 4.0 Academic Violation: None\n",
      "Student: Baxter Swift Major: Music GPA: 3.97 Academic Violation: Forgery\n",
      "\n",
      "Student Management Menu Options\n",
      "1: Student Information Query\n",
      "2: Student Information Entry\n",
      "3: Query GPA Metrics\n",
      "4: Academic Violations\n",
      "5: Quit Program\n"
     ]
    },
    {
     "name": "stdin",
     "output_type": "stream",
     "text": [
      "Please input the number associated with the menu option you would like.\n",
      " 5\n"
     ]
    },
    {
     "name": "stdout",
     "output_type": "stream",
     "text": [
      "Closing the Student Management System. Have a Great Day!\n"
     ]
    }
   ],
   "source": [
    "close_system = 0\n",
    "while True:\n",
    "    #Manu options\n",
    "    if close_system == 0:\n",
    "        print(\"\\nStudent Management Menu Options\\n1: Student Information Query\\n2: Student Information Entry\\n3: Query GPA Metrics\\n4: Academic Violations\\n5: Quit Program\")\n",
    "        \n",
    "    choice = float(input(\"Please input the number associated with the menu option you would like.\\n\"))\n",
    "    if choice == 1:\n",
    "        # List students in system\n",
    "        for f, l, m, g, v in zip(first_names, last_names, majors, gpas, student_violations):\n",
    "            print(\"Student:\",f, l, \"Major:\",m, \"GPA:\",g, \"Academic Violation:\",v)\n",
    "        \n",
    "    elif choice == 2: \n",
    "        # Create a new student record\n",
    "        first_name = str(input(\"Please enter the student's first name.\\n\"))\n",
    "        last_name = str(input(\"Please enter the student's last name.\\n\"))\n",
    "        major = str(input(\"Please enter the student's current major.\\n\"))\n",
    "        gpa = float(input(\"Please enter the student's current gpa.\\n\"))\n",
    "        print(\"Thank you for adding this student to our records.\")\n",
    "        \n",
    "        # Adding new student record\n",
    "        first_names.append(first_name)\n",
    "        last_names.append(last_name)\n",
    "        majors.append(major)\n",
    "        gpas.append((gpa))\n",
    "        \n",
    "    elif choice == 3: \n",
    "        #GPA Metrics\n",
    "        print(\"The maximum GPA is:\", max(gpas))\n",
    "        print(\"The minimum GPA is:\", min(gpas))\n",
    "        print(\"The average GPA is:\", sum(gpas)/len(gpas))\n",
    "        \n",
    "    elif choice == 4: \n",
    "        # Add Academic Violation\n",
    "        print(first_names)\n",
    "        # Getting Student Name\n",
    "        violator = int(input(\"Please input the number (beginning at 0) associated with the student you would like to add/change an academic violation for.\\n(0 for Carmen, 1 for Sydney, etc.)\\n\"))\n",
    "        # Getting Violation\n",
    "        print(\"Student Violation Options\\n1: Copying Homework\\n2: Cheating on an Exam\\n3: Plagiarism\\n4: Cheating on a Quiz\\n5: Forgery\\n6: None.\\n\")\n",
    "        new_violation = float(input(\"Please input the number associated with the academic violation below.\\n\"))\n",
    "        \n",
    "        #Removing current violation if exists\n",
    "        student_violations.pop(violator)\n",
    "\n",
    "        # Inserting New Violation\n",
    "        if new_violation == 1:\n",
    "            student_violations.insert(violator, \"Copying Homework\")\n",
    "        elif new_violation == 2:\n",
    "            student_violations.insert(violator, \"Cheating on an Exam\")\n",
    "        elif new_violation == 3:\n",
    "            student_violations.insert(violator, \"Plagiarism\")\n",
    "        elif new_violation == 4:\n",
    "            student_violations.insert(violator, \"Cheating on a Quiz\")\n",
    "        elif new_violation == 5:\n",
    "            student_violations.insert(violator, \"Forgery\")\n",
    "        elif new_violation == 6:\n",
    "            student_violations.insert(violator, \"None\")\n",
    "        else:\n",
    "        #Not an option\n",
    "            print(\"That is not an option. Please try again.\")\n",
    "        print(student_violations)\n",
    "    elif choice == 5:\n",
    "        print(\"Closing the Student Management System. Have a Great Day!\")\n",
    "        break\n",
    "    else:\n",
    "        #Not an option\n",
    "        print(\"That is not an option. Please try again.\")\n",
    "        break"
   ]
  },
  {
   "cell_type": "markdown",
   "id": "23512666-b30f-40f5-b6cd-8de73c3ac513",
   "metadata": {},
   "source": [
    "## References\n",
    "While I usually try to stick to the tutorials to complete the weekly labs, this week I was trying to figure out how to make the output of my lists \"prettier\". I couldn't find anything in the week 2, 3, or 6 tutorials so I did a google search of \"Iterating through multiple lists in python\". This led me to discover the use of \"zip\" to get the output of multiple lists to alternate while maintaining the position of the elements in each list. Below is the website I used to learn about this technique:\n",
    "\n",
    "Citation:\n",
    "\n",
    "Faccioni, Juliano Luiz. “How to Loop Over Multiple Lists in Python.” LearnPython.Com, LearnPython.com, 30 Nov. 2022, learnpython.com/blog/loop-over-multiple-lists/. \n",
    "\n",
    "URL: https://learnpython.com/blog/loop-over-multiple-lists/\n"
   ]
  }
 ],
 "metadata": {
  "kernelspec": {
   "display_name": "Python [conda env:base] *",
   "language": "python",
   "name": "conda-base-py"
  },
  "language_info": {
   "codemirror_mode": {
    "name": "ipython",
    "version": 3
   },
   "file_extension": ".py",
   "mimetype": "text/x-python",
   "name": "python",
   "nbconvert_exporter": "python",
   "pygments_lexer": "ipython3",
   "version": "3.12.7"
  }
 },
 "nbformat": 4,
 "nbformat_minor": 5
}
